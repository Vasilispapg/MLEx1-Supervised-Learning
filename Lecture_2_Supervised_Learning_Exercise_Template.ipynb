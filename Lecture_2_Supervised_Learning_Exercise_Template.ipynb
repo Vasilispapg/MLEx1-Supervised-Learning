{
  "nbformat": 4,
  "nbformat_minor": 0,
  "metadata": {
    "colab": {
      "provenance": []
    },
    "kernelspec": {
      "name": "python3",
      "display_name": "Python 3"
    },
    "language_info": {
      "name": "python"
    }
  },
  "cells": [
    {
      "cell_type": "markdown",
      "source": [
        "**Author**: *Vasileios Kochliaridis* (vkochlia@csd.auth.gr)"
      ],
      "metadata": {
        "id": "HufISzwFEEsP"
      }
    },
    {
      "cell_type": "markdown",
      "source": [
        "# Ex1. Logistic Regression"
      ],
      "metadata": {
        "id": "zcFqpERjEY_l"
      }
    },
    {
      "cell_type": "markdown",
      "source": [
        "# Import Libraries"
      ],
      "metadata": {
        "id": "328Zl6T8ENi-"
      }
    },
    {
      "cell_type": "code",
      "execution_count": null,
      "metadata": {
        "id": "jSXT_AE0EAra"
      },
      "outputs": [],
      "source": [
        "# import ..."
      ]
    },
    {
      "cell_type": "markdown",
      "source": [
        "# Load Dataset to DataFrame"
      ],
      "metadata": {
        "id": "TiKk4DKlEO6l"
      }
    },
    {
      "cell_type": "code",
      "source": [
        "# df = pd.read_csv(...)"
      ],
      "metadata": {
        "id": "D9xfPUvkEPkt"
      },
      "execution_count": null,
      "outputs": []
    },
    {
      "cell_type": "markdown",
      "source": [
        "# Convert DataFrame to x (inputs), y (targets) arrays"
      ],
      "metadata": {
        "id": "iHDoHoBCEP_3"
      }
    },
    {
      "cell_type": "code",
      "source": [
        "# input_columns = [..., ..., ...]\n",
        "# target_column = '...'\n",
        "\n",
        "# x = df[input_columns].to_numpy()\n",
        "# y = df[target_column].to_numpy()"
      ],
      "metadata": {
        "id": "0mBzp9BSEfQV"
      },
      "execution_count": null,
      "outputs": []
    },
    {
      "cell_type": "markdown",
      "source": [
        "# Split Dataset to Train-Test"
      ],
      "metadata": {
        "id": "mll6jZjFEzd0"
      }
    },
    {
      "cell_type": "code",
      "source": [
        "# random_state = ...\n",
        "# test_ratio = ...\n",
        "\n",
        "# x_train, x_test, y_train, y_test = split_train_test(...)"
      ],
      "metadata": {
        "id": "eHBbUoClE1bF"
      },
      "execution_count": null,
      "outputs": []
    },
    {
      "cell_type": "markdown",
      "source": [
        "# Create a Logistic Regression Model"
      ],
      "metadata": {
        "id": "hCXrTeOiEo1t"
      }
    },
    {
      "cell_type": "code",
      "source": [
        "# regularization = ...\n",
        "# random_state = ...\n",
        "\n",
        "# classifier = LogisticRegression(...)"
      ],
      "metadata": {
        "id": "X85ZOfJnE2m1"
      },
      "execution_count": null,
      "outputs": []
    },
    {
      "cell_type": "markdown",
      "source": [
        "# Train Model"
      ],
      "metadata": {
        "id": "-LlSei1ZE7D9"
      }
    },
    {
      "cell_type": "code",
      "source": [
        "# classifier.fit(...)"
      ],
      "metadata": {
        "id": "w_UWrxJUE8Tl"
      },
      "execution_count": null,
      "outputs": []
    },
    {
      "cell_type": "markdown",
      "source": [
        "# Compute Diabetes Predictions"
      ],
      "metadata": {
        "id": "RDn5ikWGL1xX"
      }
    },
    {
      "cell_type": "code",
      "source": [
        "# y_pred = classifier.predict(...)"
      ],
      "metadata": {
        "id": "hyEsnYCeL2-I"
      },
      "execution_count": null,
      "outputs": []
    },
    {
      "cell_type": "markdown",
      "source": [
        "# Compute Model's Accuracy"
      ],
      "metadata": {
        "id": "0w6av4Q5E_O0"
      }
    },
    {
      "cell_type": "code",
      "source": [
        "# accuracy = accuracy_score(...)"
      ],
      "metadata": {
        "id": "ilXUc0ppFAle"
      },
      "execution_count": null,
      "outputs": []
    },
    {
      "cell_type": "markdown",
      "source": [
        "# -- Answer The Question: --\n",
        "# Which model is better:\n",
        "\n",
        "\n",
        "*   A model that mostly predicts that a patient has no Diabetes, even though they have\n",
        "*   A model that mostly predicts that a patient has diabetes, even though they don't have\n",
        "\n"
      ],
      "metadata": {
        "id": "vW6W6pW5FBAN"
      }
    },
    {
      "cell_type": "markdown",
      "source": [
        "# Repeat same process for ages:\n",
        "\n",
        "\n",
        "\n",
        "*   0-40\n",
        "*   41-100\n",
        "\n"
      ],
      "metadata": {
        "id": "97IWZ1DoFocl"
      }
    },
    {
      "cell_type": "markdown",
      "source": [
        "Enter your answer here..."
      ],
      "metadata": {
        "id": "fpYS5kwVK9hP"
      }
    },
    {
      "cell_type": "markdown",
      "source": [
        "# Ex2. Linear Regression"
      ],
      "metadata": {
        "id": "nAmX2EqQEcBd"
      }
    },
    {
      "cell_type": "markdown",
      "source": [
        "# Select Corresponding Features for this task"
      ],
      "metadata": {
        "id": "jmWWKp_AFxrt"
      }
    },
    {
      "cell_type": "code",
      "source": [],
      "metadata": {
        "id": "xVfk17w4EdmM"
      },
      "execution_count": null,
      "outputs": []
    },
    {
      "cell_type": "markdown",
      "source": [
        "# Split Dataset to x, y"
      ],
      "metadata": {
        "id": "cjfhnsymF2G1"
      }
    },
    {
      "cell_type": "code",
      "source": [],
      "metadata": {
        "id": "1XjYBd9DIcz1"
      },
      "execution_count": null,
      "outputs": []
    },
    {
      "cell_type": "markdown",
      "source": [
        "# Split Dataset to Train-Test"
      ],
      "metadata": {
        "id": "qOIVMHA5IdX3"
      }
    },
    {
      "cell_type": "code",
      "source": [],
      "metadata": {
        "id": "r1w4pSxyIfD2"
      },
      "execution_count": null,
      "outputs": []
    },
    {
      "cell_type": "markdown",
      "source": [
        "# Compute BloodPressure Predictions"
      ],
      "metadata": {
        "id": "Rv_fegtXIfjG"
      }
    },
    {
      "cell_type": "code",
      "source": [],
      "metadata": {
        "id": "kbeE6H9UJxSG"
      },
      "execution_count": null,
      "outputs": []
    },
    {
      "cell_type": "markdown",
      "source": [
        "# Measure MAE"
      ],
      "metadata": {
        "id": "EUQSHl91Jx32"
      }
    },
    {
      "cell_type": "code",
      "source": [],
      "metadata": {
        "id": "B1EEpRbQJzdm"
      },
      "execution_count": null,
      "outputs": []
    },
    {
      "cell_type": "markdown",
      "source": [
        "# Construct Scatter Plot for each Feature + Regression Line"
      ],
      "metadata": {
        "id": "Rf8clSdxJz1O"
      }
    },
    {
      "cell_type": "code",
      "source": [
        "# plt.scatter() --> For Points\n",
        "# plt.plot() --> For line"
      ],
      "metadata": {
        "id": "BGIMBO31J1i2"
      },
      "execution_count": null,
      "outputs": []
    }
  ]
}